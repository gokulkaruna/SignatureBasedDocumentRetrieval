{
 "cells": [
  {
   "cell_type": "code",
   "execution_count": 62,
   "metadata": {},
   "outputs": [],
   "source": [
    "from tensorflow.keras.utils import load_img, img_to_array\n",
    "\n",
    "from keras.preprocessing.image import ImageDataGenerator\n",
    "\n",
    "# Total Generated number\n",
    "total_number = 100\n",
    "\n",
    "data_gen = ImageDataGenerator(rescale=1. / 255, shear_range=0.2,\n",
    "                              zoom_range=0.2, horizontal_flip=True)\n",
    "\n",
    "# Create image to tensor\n",
    "img = load_img(\"./input/PES1PG22CS057.jpg\", grayscale=True)\n",
    "arr = img_to_array(img)\n",
    "tensor_image = arr.reshape((1, ) + arr.shape)\n",
    "\n",
    "for i, _ in enumerate(data_gen.flow(x=tensor_image,\n",
    "                                    batch_size=1,\n",
    "                                    save_to_dir=\"./57Sets/SRN(57)/\",\n",
    "                                    save_prefix=\"generated\",\n",
    "                                    save_format=\".jpg\")):\n",
    "    if i > total_number:\n",
    "        break"
   ]
  }
 ],
 "metadata": {
  "kernelspec": {
   "display_name": "cat_dog",
   "language": "python",
   "name": "python3"
  },
  "language_info": {
   "codemirror_mode": {
    "name": "ipython",
    "version": 3
   },
   "file_extension": ".py",
   "mimetype": "text/x-python",
   "name": "python",
   "nbconvert_exporter": "python",
   "pygments_lexer": "ipython3",
   "version": "3.11.2"
  },
  "orig_nbformat": 4
 },
 "nbformat": 4,
 "nbformat_minor": 2
}
